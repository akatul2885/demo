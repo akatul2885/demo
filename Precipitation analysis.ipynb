{
    "cells": [
        {
            "cell_type": "markdown",
            "metadata": {},
            "source": "## Description\nThe notebook for analyzing data"
        },
        {
            "cell_type": "code",
            "execution_count": 1,
            "metadata": {},
            "outputs": [
                {
                    "data": {
                        "text/html": "<div>\n<style scoped>\n    .dataframe tbody tr th:only-of-type {\n        vertical-align: middle;\n    }\n\n    .dataframe tbody tr th {\n        vertical-align: top;\n    }\n\n    .dataframe thead th {\n        text-align: right;\n    }\n</style>\n<table border=\"1\" class=\"dataframe\">\n  <thead>\n    <tr style=\"text-align: right;\">\n      <th></th>\n      <th>YEAR</th>\n      <th>JUN</th>\n      <th>JUL</th>\n      <th>AUG</th>\n      <th>SEP</th>\n      <th>JUN-SEP</th>\n    </tr>\n  </thead>\n  <tbody>\n    <tr>\n      <th>0</th>\n      <td>1901</td>\n      <td>111.0</td>\n      <td>243.2</td>\n      <td>273.6</td>\n      <td>124.6</td>\n      <td>752.4</td>\n    </tr>\n    <tr>\n      <th>1</th>\n      <td>1902</td>\n      <td>109.0</td>\n      <td>282.8</td>\n      <td>201.8</td>\n      <td>201.0</td>\n      <td>794.7</td>\n    </tr>\n    <tr>\n      <th>2</th>\n      <td>1903</td>\n      <td>117.0</td>\n      <td>292.0</td>\n      <td>271.7</td>\n      <td>200.9</td>\n      <td>881.7</td>\n    </tr>\n    <tr>\n      <th>3</th>\n      <td>1904</td>\n      <td>165.2</td>\n      <td>263.1</td>\n      <td>205.2</td>\n      <td>131.7</td>\n      <td>765.2</td>\n    </tr>\n    <tr>\n      <th>4</th>\n      <td>1905</td>\n      <td>92.3</td>\n      <td>254.9</td>\n      <td>201.4</td>\n      <td>180.0</td>\n      <td>728.6</td>\n    </tr>\n  </tbody>\n</table>\n</div>",
                        "text/plain": "   YEAR    JUN    JUL    AUG    SEP  JUN-SEP\n0  1901  111.0  243.2  273.6  124.6    752.4\n1  1902  109.0  282.8  201.8  201.0    794.7\n2  1903  117.0  292.0  271.7  200.9    881.7\n3  1904  165.2  263.1  205.2  131.7    765.2\n4  1905   92.3  254.9  201.4  180.0    728.6"
                    },
                    "execution_count": 1,
                    "metadata": {},
                    "output_type": "execute_result"
                }
            ],
            "source": "# The code was removed by Watson Studio for sharing."
        },
        {
            "cell_type": "code",
            "execution_count": null,
            "metadata": {},
            "outputs": [],
            "source": ""
        }
    ],
    "metadata": {
        "kernelspec": {
            "display_name": "Python 3.8",
            "language": "python",
            "name": "python3"
        },
        "language_info": {
            "codemirror_mode": {
                "name": "ipython",
                "version": 3
            },
            "file_extension": ".py",
            "mimetype": "text/x-python",
            "name": "python",
            "nbconvert_exporter": "python",
            "pygments_lexer": "ipython3",
            "version": "3.8.11"
        }
    },
    "nbformat": 4,
    "nbformat_minor": 1
}